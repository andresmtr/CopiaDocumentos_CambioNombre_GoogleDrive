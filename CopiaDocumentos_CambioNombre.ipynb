{
  "nbformat": 4,
  "nbformat_minor": 0,
  "metadata": {
    "colab": {
      "name": "CopiaDocumentos_CambioNombre.ipynb",
      "provenance": [],
      "collapsed_sections": []
    },
    "kernelspec": {
      "name": "python3",
      "display_name": "Python 3"
    },
    "language_info": {
      "name": "python"
    }
  },
  "cells": [
    {
      "cell_type": "markdown",
      "source": [
        "# Copiar documentos de Google Forms y posterior cambiar nombre"
      ],
      "metadata": {
        "id": "XrhyuXkCmeco"
      }
    },
    {
      "cell_type": "markdown",
      "source": [
        "El siguiente script con Python, permite copiar los archivos cargados en un formulario de Google Forms a carpetas por participantes u organización y en el mismo proceso, cambia el nombre del documento al deseado por cada proyecto\n",
        "\n",
        "A continuación se describen los pasos para ejecutar el script"
      ],
      "metadata": {
        "id": "tpLpnQKDmn1e"
      }
    },
    {
      "cell_type": "markdown",
      "source": [
        "# 1. Conexión Google Drive"
      ],
      "metadata": {
        "id": "D0GR251u1_gT"
      }
    },
    {
      "cell_type": "markdown",
      "source": [
        "Por medio de la libreria otorgada por Google, se realiza la connexión de Google Colaboratory y Google Drive y así acceder a los formularios creados"
      ],
      "metadata": {
        "id": "eah67eLVndBE"
      }
    },
    {
      "cell_type": "code",
      "source": [
        "# para montar datos desde google drive\n",
        "\n",
        "from google.colab import drive\n",
        "drive.mount('/content/drive')"
      ],
      "metadata": {
        "colab": {
          "base_uri": "https://localhost:8080/"
        },
        "id": "ZKKecaNFxuIJ",
        "outputId": "c27c2e8f-8a8a-4bfd-b157-b2b438619a71"
      },
      "execution_count": 1,
      "outputs": [
        {
          "output_type": "stream",
          "name": "stdout",
          "text": [
            "Mounted at /content/drive\n"
          ]
        }
      ]
    },
    {
      "cell_type": "markdown",
      "source": [
        "# 2. Principales librerias"
      ],
      "metadata": {
        "id": "ni1oC3EQ2Gdk"
      }
    },
    {
      "cell_type": "markdown",
      "source": [
        "Se importan las siguientes librerias\n",
        "\n",
        "*   Se importan las librerias para analisis de datos (Pnadas y Numpy)\n",
        "*   Autorización Google Cola con Google Sheets por medio de Google SDK"
      ],
      "metadata": {
        "id": "CxlcKVq3nrhb"
      }
    },
    {
      "cell_type": "code",
      "source": [
        "import os\n",
        "import pandas as pd\n",
        "import numpy as np\n",
        "import requests\n",
        "import re\n",
        "\n",
        "#Google Sheets\n",
        "from google.colab import auth\n",
        "auth.authenticate_user()\n",
        "\n",
        "import gspread\n",
        "from google.auth import default\n",
        "creds, _ = default()\n",
        "\n",
        "gc = gspread.authorize(creds)\n"
      ],
      "metadata": {
        "id": "RExIg1MTxvHH"
      },
      "execution_count": 2,
      "outputs": []
    },
    {
      "cell_type": "code",
      "source": [
        "#!ls -l /content/drive/MyDrive/"
      ],
      "metadata": {
        "id": "Dr3EL9Whylcf"
      },
      "execution_count": null,
      "outputs": []
    },
    {
      "cell_type": "markdown",
      "source": [
        "# 3. Cargue información formulario - Google Sheets"
      ],
      "metadata": {
        "id": "GpEv_zak3KXf"
      }
    },
    {
      "cell_type": "markdown",
      "source": [
        "Una vez se autorice con Google SDK, se debe ingresar el nombre de la hoja de Google Sheet que tenga la infromación del formulario, esto servira para lo siguiente:\n",
        "\n",
        "*   Identificar la información del participante o la organización que se quere mover \n",
        "*   Identificar los id de las carpetas y los archivos con los que se va atrabajar\n",
        "\n"
      ],
      "metadata": {
        "id": "Oox_vbl6ofmY"
      }
    },
    {
      "cell_type": "code",
      "source": [
        "## Coloque el nombre nameSheets Ejemplo: 'Prueba_cambio_nombre (respuestas)'\n",
        "## Este automaticamente detectara la información de los formularios que se deseen trabajar\n",
        "\n",
        "### Colocar el nombre del sheet\n",
        "nameSheets = input()\n"
      ],
      "metadata": {
        "id": "VN18MUcXz0wV",
        "colab": {
          "base_uri": "https://localhost:8080/"
        },
        "outputId": "e96cdcf9-783f-45f4-bac9-f1a25f6a96d1"
      },
      "execution_count": 3,
      "outputs": [
        {
          "name": "stdout",
          "output_type": "stream",
          "text": [
            "Prueba (respuestas)\n"
          ]
        }
      ]
    },
    {
      "cell_type": "code",
      "source": [
        "## Con el siguiente proceso, realizara una identificación de la información que tiene el Google Forms alojado en Google Sheets\n",
        "\n",
        "worksheet = gc.open(nameSheets).sheet1\n",
        "\n",
        "rows = worksheet.get_all_values()\n",
        "\n",
        "import pandas as pd\n",
        "df = pd.DataFrame.from_records(rows)\n",
        "# cambiar el nombre de las columans con la primera fila\n",
        "new_header = df.iloc[0] \n",
        "df = df[1:]\n",
        "df.columns = new_header \n",
        "df.rename(columns=df.iloc[0])\n",
        "# reiniciar index\n",
        "df = df.reset_index(drop=True)\n",
        "df"
      ],
      "metadata": {
        "colab": {
          "base_uri": "https://localhost:8080/",
          "height": 206
        },
        "id": "5ysQP7mz_V_N",
        "outputId": "c084fd39-8e96-4823-bcbd-d6f7cd85faad"
      },
      "execution_count": 4,
      "outputs": [
        {
          "output_type": "execute_result",
          "data": {
            "text/plain": [
              "0      Marca temporal   Cedula  \\\n",
              "0  29/03/2022 8:57:19   892374   \n",
              "1  29/03/2022 8:57:43  9912388   \n",
              "2  29/03/2022 8:57:48   128383   \n",
              "3  29/03/2022 8:57:55  7738217   \n",
              "4  29/03/2022 8:58:14    48208   \n",
              "\n",
              "0                                    Copia Documento  \n",
              "0  https://drive.google.com/open?id=19ta7OQ4rLPjD...  \n",
              "1  https://drive.google.com/open?id=1tJfIneYBIYOv...  \n",
              "2                                                     \n",
              "3                                                     \n",
              "4  https://drive.google.com/open?id=1IgzQk-ScNDtT...  "
            ],
            "text/html": [
              "\n",
              "  <div id=\"df-bddcd0a3-7420-4ee0-ac50-b752abb7ac58\">\n",
              "    <div class=\"colab-df-container\">\n",
              "      <div>\n",
              "<style scoped>\n",
              "    .dataframe tbody tr th:only-of-type {\n",
              "        vertical-align: middle;\n",
              "    }\n",
              "\n",
              "    .dataframe tbody tr th {\n",
              "        vertical-align: top;\n",
              "    }\n",
              "\n",
              "    .dataframe thead th {\n",
              "        text-align: right;\n",
              "    }\n",
              "</style>\n",
              "<table border=\"1\" class=\"dataframe\">\n",
              "  <thead>\n",
              "    <tr style=\"text-align: right;\">\n",
              "      <th></th>\n",
              "      <th>Marca temporal</th>\n",
              "      <th>Cedula</th>\n",
              "      <th>Copia Documento</th>\n",
              "    </tr>\n",
              "  </thead>\n",
              "  <tbody>\n",
              "    <tr>\n",
              "      <th>0</th>\n",
              "      <td>29/03/2022 8:57:19</td>\n",
              "      <td>892374</td>\n",
              "      <td>https://drive.google.com/open?id=19ta7OQ4rLPjD...</td>\n",
              "    </tr>\n",
              "    <tr>\n",
              "      <th>1</th>\n",
              "      <td>29/03/2022 8:57:43</td>\n",
              "      <td>9912388</td>\n",
              "      <td>https://drive.google.com/open?id=1tJfIneYBIYOv...</td>\n",
              "    </tr>\n",
              "    <tr>\n",
              "      <th>2</th>\n",
              "      <td>29/03/2022 8:57:48</td>\n",
              "      <td>128383</td>\n",
              "      <td></td>\n",
              "    </tr>\n",
              "    <tr>\n",
              "      <th>3</th>\n",
              "      <td>29/03/2022 8:57:55</td>\n",
              "      <td>7738217</td>\n",
              "      <td></td>\n",
              "    </tr>\n",
              "    <tr>\n",
              "      <th>4</th>\n",
              "      <td>29/03/2022 8:58:14</td>\n",
              "      <td>48208</td>\n",
              "      <td>https://drive.google.com/open?id=1IgzQk-ScNDtT...</td>\n",
              "    </tr>\n",
              "  </tbody>\n",
              "</table>\n",
              "</div>\n",
              "      <button class=\"colab-df-convert\" onclick=\"convertToInteractive('df-bddcd0a3-7420-4ee0-ac50-b752abb7ac58')\"\n",
              "              title=\"Convert this dataframe to an interactive table.\"\n",
              "              style=\"display:none;\">\n",
              "        \n",
              "  <svg xmlns=\"http://www.w3.org/2000/svg\" height=\"24px\"viewBox=\"0 0 24 24\"\n",
              "       width=\"24px\">\n",
              "    <path d=\"M0 0h24v24H0V0z\" fill=\"none\"/>\n",
              "    <path d=\"M18.56 5.44l.94 2.06.94-2.06 2.06-.94-2.06-.94-.94-2.06-.94 2.06-2.06.94zm-11 1L8.5 8.5l.94-2.06 2.06-.94-2.06-.94L8.5 2.5l-.94 2.06-2.06.94zm10 10l.94 2.06.94-2.06 2.06-.94-2.06-.94-.94-2.06-.94 2.06-2.06.94z\"/><path d=\"M17.41 7.96l-1.37-1.37c-.4-.4-.92-.59-1.43-.59-.52 0-1.04.2-1.43.59L10.3 9.45l-7.72 7.72c-.78.78-.78 2.05 0 2.83L4 21.41c.39.39.9.59 1.41.59.51 0 1.02-.2 1.41-.59l7.78-7.78 2.81-2.81c.8-.78.8-2.07 0-2.86zM5.41 20L4 18.59l7.72-7.72 1.47 1.35L5.41 20z\"/>\n",
              "  </svg>\n",
              "      </button>\n",
              "      \n",
              "  <style>\n",
              "    .colab-df-container {\n",
              "      display:flex;\n",
              "      flex-wrap:wrap;\n",
              "      gap: 12px;\n",
              "    }\n",
              "\n",
              "    .colab-df-convert {\n",
              "      background-color: #E8F0FE;\n",
              "      border: none;\n",
              "      border-radius: 50%;\n",
              "      cursor: pointer;\n",
              "      display: none;\n",
              "      fill: #1967D2;\n",
              "      height: 32px;\n",
              "      padding: 0 0 0 0;\n",
              "      width: 32px;\n",
              "    }\n",
              "\n",
              "    .colab-df-convert:hover {\n",
              "      background-color: #E2EBFA;\n",
              "      box-shadow: 0px 1px 2px rgba(60, 64, 67, 0.3), 0px 1px 3px 1px rgba(60, 64, 67, 0.15);\n",
              "      fill: #174EA6;\n",
              "    }\n",
              "\n",
              "    [theme=dark] .colab-df-convert {\n",
              "      background-color: #3B4455;\n",
              "      fill: #D2E3FC;\n",
              "    }\n",
              "\n",
              "    [theme=dark] .colab-df-convert:hover {\n",
              "      background-color: #434B5C;\n",
              "      box-shadow: 0px 1px 3px 1px rgba(0, 0, 0, 0.15);\n",
              "      filter: drop-shadow(0px 1px 2px rgba(0, 0, 0, 0.3));\n",
              "      fill: #FFFFFF;\n",
              "    }\n",
              "  </style>\n",
              "\n",
              "      <script>\n",
              "        const buttonEl =\n",
              "          document.querySelector('#df-bddcd0a3-7420-4ee0-ac50-b752abb7ac58 button.colab-df-convert');\n",
              "        buttonEl.style.display =\n",
              "          google.colab.kernel.accessAllowed ? 'block' : 'none';\n",
              "\n",
              "        async function convertToInteractive(key) {\n",
              "          const element = document.querySelector('#df-bddcd0a3-7420-4ee0-ac50-b752abb7ac58');\n",
              "          const dataTable =\n",
              "            await google.colab.kernel.invokeFunction('convertToInteractive',\n",
              "                                                     [key], {});\n",
              "          if (!dataTable) return;\n",
              "\n",
              "          const docLinkHtml = 'Like what you see? Visit the ' +\n",
              "            '<a target=\"_blank\" href=https://colab.research.google.com/notebooks/data_table.ipynb>data table notebook</a>'\n",
              "            + ' to learn more about interactive tables.';\n",
              "          element.innerHTML = '';\n",
              "          dataTable['output_type'] = 'display_data';\n",
              "          await google.colab.output.renderOutput(dataTable, element);\n",
              "          const docLink = document.createElement('div');\n",
              "          docLink.innerHTML = docLinkHtml;\n",
              "          element.appendChild(docLink);\n",
              "        }\n",
              "      </script>\n",
              "    </div>\n",
              "  </div>\n",
              "  "
            ]
          },
          "metadata": {},
          "execution_count": 4
        }
      ]
    },
    {
      "cell_type": "code",
      "source": [
        "## Identificar el nombre de las columnas del Google Sheets\n",
        "\n",
        "df.columns"
      ],
      "metadata": {
        "colab": {
          "base_uri": "https://localhost:8080/"
        },
        "id": "F93-tJAdravT",
        "outputId": "7a477647-fc93-4183-83d4-fe61c44364c7"
      },
      "execution_count": 5,
      "outputs": [
        {
          "output_type": "execute_result",
          "data": {
            "text/plain": [
              "Index(['Marca temporal', 'Cedula', 'Copia Documento'], dtype='object', name=0)"
            ]
          },
          "metadata": {},
          "execution_count": 5
        }
      ]
    },
    {
      "cell_type": "markdown",
      "source": [
        "# Crear carpeta principal"
      ],
      "metadata": {
        "id": "w_g_3C0tI5Nz"
      }
    },
    {
      "cell_type": "markdown",
      "source": [
        "Con el siguiente condigo, se crea la carpeta principal donde se van colcoar las copias de los documentos\n",
        "\n",
        "Se debe incluir en el input el nombre de la carpeta principal que tendra la información\n",
        "\n",
        "Nota: no iniciar el nombre de la carpeta con caracteres especiales (%\"&$/='\")"
      ],
      "metadata": {
        "id": "5GA7mlHr0ebz"
      }
    },
    {
      "cell_type": "code",
      "source": [
        "## Carpeta principal google Drive\n",
        "\n",
        "folder_drive = '/content/drive/MyDrive/'\n",
        "\n",
        "## Ejemplo de nombre de la carpeta 'Participantes'\n",
        "\n",
        "New_folder = input()"
      ],
      "metadata": {
        "colab": {
          "base_uri": "https://localhost:8080/"
        },
        "id": "5dUkBsn2I3kd",
        "outputId": "e9067cd3-21aa-4ccb-e01e-bf470272fc1d"
      },
      "execution_count": 6,
      "outputs": [
        {
          "name": "stdout",
          "output_type": "stream",
          "text": [
            "A participantes\n"
          ]
        }
      ]
    },
    {
      "cell_type": "code",
      "source": [
        "directory = folder_drive+'/'+New_folder"
      ],
      "metadata": {
        "id": "CVQDjk3AJ4wC"
      },
      "execution_count": 7,
      "outputs": []
    },
    {
      "cell_type": "markdown",
      "source": [
        "Con el siguiente codigo, se creara la carpeta principal. Este codigo tiene las sigueintes validaciones\n",
        "\n",
        "*   Si la carpeta no existe y se colocaron los caracteres indicados en el paso anterior, se creara exitosamente\n",
        "*   Si colocaron caracteres que no no corresponden, imprimira un mensaje con el error\n",
        "*   Si la carpeta ya existe, imprimira un mensaje con ese resultado y la carpeta no se creara\n",
        "\n"
      ],
      "metadata": {
        "id": "5afn40Sk1mfs"
      }
    },
    {
      "cell_type": "code",
      "source": [
        "if not os.path.exists(directory):\n",
        "  try:\n",
        "      os.mkdir(directory)\n",
        "  except OSError:\n",
        "      print(\"Error del directorio %s\" % directory)\n",
        "  else:\n",
        "      print(\"Se ha creo el directorio: %s \" % directory)\n",
        "else:\n",
        "  print(\"Ya existe la carpeta: %s \" % directory)"
      ],
      "metadata": {
        "colab": {
          "base_uri": "https://localhost:8080/"
        },
        "id": "ZsVa9GM4JYje",
        "outputId": "df2c912f-16df-4b96-c1c5-11521bd91c53"
      },
      "execution_count": 8,
      "outputs": [
        {
          "output_type": "stream",
          "name": "stdout",
          "text": [
            "Ya existe la carpeta: /content/drive/MyDrive//A participantes \n"
          ]
        }
      ]
    },
    {
      "cell_type": "markdown",
      "source": [
        "# Carpeta por participante\n",
        "\n"
      ],
      "metadata": {
        "id": "OibdLFG1MI4m"
      }
    },
    {
      "cell_type": "markdown",
      "source": [
        "Con el siguiente Codigo, se crean automaticamente los nombres de los participantes, se suguiere usar el documento de identidad, pero puede aplicar con cualquiera\n",
        "\n",
        "El nombre del participante, se debe seleccionar de las columnas existes en la base de datos, de lo contrario el script no funcionara"
      ],
      "metadata": {
        "id": "vyfhjK9h2tG4"
      }
    },
    {
      "cell_type": "code",
      "source": [
        "# Cuenta el numero de registros alojados en el Google Forms\n",
        "\n",
        "contar = len(df.index)\n",
        "contar "
      ],
      "metadata": {
        "id": "2nRG8w26MIFg",
        "colab": {
          "base_uri": "https://localhost:8080/"
        },
        "outputId": "94847ff7-8deb-4c9b-d484-8f581654a117"
      },
      "execution_count": 9,
      "outputs": [
        {
          "output_type": "execute_result",
          "data": {
            "text/plain": [
              "5"
            ]
          },
          "metadata": {},
          "execution_count": 9
        }
      ]
    },
    {
      "cell_type": "code",
      "source": [
        "# En el siguiente ejemplo, se selecciona la columna con las cedulas\n",
        "\n",
        "# Documento de identidad\n",
        "\n",
        "id = input()"
      ],
      "metadata": {
        "colab": {
          "base_uri": "https://localhost:8080/"
        },
        "id": "93-Uf9cGMwoS",
        "outputId": "258dc785-2aa4-4416-f954-2d0b1752e3f9"
      },
      "execution_count": 10,
      "outputs": [
        {
          "name": "stdout",
          "output_type": "stream",
          "text": [
            "Cedula\n"
          ]
        }
      ]
    },
    {
      "cell_type": "code",
      "source": [
        "# crear carpeta por participante, con el documento de identidad\n",
        "\n",
        "## Nota: Este codigo, si sobreescribe las carpetas si ya están creadas, tiene que tener cuidado\n",
        "\n",
        "for i in range(contar):\n",
        "  if not os.path.exists(directory+'/'+df[id][i]):\n",
        "    try:\n",
        "        os.mkdir(directory+'/'+df[id][i])\n",
        "    except OSError:\n",
        "        print(\"La creación del directorio %s falló o ya esta creado\" % directory+'/'+df[id][i])\n",
        "    else:\n",
        "        print(\"Se ha creado el directorio: %s \" % directory+'/'+df[id][i])"
      ],
      "metadata": {
        "id": "RjoVL770MMWC",
        "colab": {
          "base_uri": "https://localhost:8080/"
        },
        "outputId": "1be05f34-4ba0-4c01-ede0-dd66a3ae3b3e"
      },
      "execution_count": 11,
      "outputs": [
        {
          "output_type": "stream",
          "name": "stdout",
          "text": [
            "Se ha creado el directorio: /content/drive/MyDrive//A participantes /892374\n",
            "Se ha creado el directorio: /content/drive/MyDrive//A participantes /9912388\n",
            "Se ha creado el directorio: /content/drive/MyDrive//A participantes /128383\n",
            "Se ha creado el directorio: /content/drive/MyDrive//A participantes /7738217\n",
            "Se ha creado el directorio: /content/drive/MyDrive//A participantes /48208\n"
          ]
        }
      ]
    },
    {
      "cell_type": "markdown",
      "source": [
        "# Copiar documentos en la carpeta del participante"
      ],
      "metadata": {
        "id": "y0ytCEjgXfK5"
      }
    },
    {
      "cell_type": "markdown",
      "source": [
        "Con el siguiente codigo, se realiza la copia del documento de en la carpeta designada\n",
        "\n",
        "Se debe seleccionar el nombre de la columna en la base que contiene los documentos de identidad"
      ],
      "metadata": {
        "id": "_IAooFTK3UAC"
      }
    },
    {
      "cell_type": "code",
      "source": [
        "# Ejemplo, se selecciona el nombre columna del archivo cargado\n",
        "\n",
        "#columna = 'Cargue documento de identidad'\n",
        "\n",
        "columna = input()"
      ],
      "metadata": {
        "id": "07qpnspi3sYk",
        "colab": {
          "base_uri": "https://localhost:8080/"
        },
        "outputId": "06c61f2a-ab4b-4563-d110-0cc0e8474943"
      },
      "execution_count": 12,
      "outputs": [
        {
          "name": "stdout",
          "output_type": "stream",
          "text": [
            "Copia Documento\n"
          ]
        }
      ]
    },
    {
      "cell_type": "code",
      "source": [
        "# Esta libreria sirve para detectar el id de la carpeta creada en el anterior paso\n",
        "\n",
        "!pip install kora\n",
        "from kora.xattr import get_id"
      ],
      "metadata": {
        "colab": {
          "base_uri": "https://localhost:8080/"
        },
        "id": "loKE_v5BeBGi",
        "outputId": "e0574a04-7b9f-4dfd-a9f6-7a2a3711bfea"
      },
      "execution_count": 13,
      "outputs": [
        {
          "output_type": "stream",
          "name": "stdout",
          "text": [
            "Collecting kora\n",
            "  Downloading kora-0.9.19-py3-none-any.whl (57 kB)\n",
            "\u001b[?25l\r\u001b[K     |█████▊                          | 10 kB 18.0 MB/s eta 0:00:01\r\u001b[K     |███████████▍                    | 20 kB 23.6 MB/s eta 0:00:01\r\u001b[K     |█████████████████               | 30 kB 14.5 MB/s eta 0:00:01\r\u001b[K     |██████████████████████▊         | 40 kB 6.2 MB/s eta 0:00:01\r\u001b[K     |████████████████████████████▍   | 51 kB 7.3 MB/s eta 0:00:01\r\u001b[K     |████████████████████████████████| 57 kB 3.4 MB/s \n",
            "\u001b[?25hRequirement already satisfied: ipython in /usr/local/lib/python3.7/dist-packages (from kora) (5.5.0)\n",
            "Collecting fastcore\n",
            "  Downloading fastcore-1.4.0-py3-none-any.whl (56 kB)\n",
            "\u001b[K     |████████████████████████████████| 56 kB 4.9 MB/s \n",
            "\u001b[?25hRequirement already satisfied: pip in /usr/local/lib/python3.7/dist-packages (from fastcore->kora) (21.1.3)\n",
            "Requirement already satisfied: packaging in /usr/local/lib/python3.7/dist-packages (from fastcore->kora) (21.3)\n",
            "Requirement already satisfied: pexpect in /usr/local/lib/python3.7/dist-packages (from ipython->kora) (4.8.0)\n",
            "Requirement already satisfied: setuptools>=18.5 in /usr/local/lib/python3.7/dist-packages (from ipython->kora) (57.4.0)\n",
            "Requirement already satisfied: pygments in /usr/local/lib/python3.7/dist-packages (from ipython->kora) (2.6.1)\n",
            "Requirement already satisfied: prompt-toolkit<2.0.0,>=1.0.4 in /usr/local/lib/python3.7/dist-packages (from ipython->kora) (1.0.18)\n",
            "Requirement already satisfied: pickleshare in /usr/local/lib/python3.7/dist-packages (from ipython->kora) (0.7.5)\n",
            "Requirement already satisfied: simplegeneric>0.8 in /usr/local/lib/python3.7/dist-packages (from ipython->kora) (0.8.1)\n",
            "Requirement already satisfied: decorator in /usr/local/lib/python3.7/dist-packages (from ipython->kora) (4.4.2)\n",
            "Requirement already satisfied: traitlets>=4.2 in /usr/local/lib/python3.7/dist-packages (from ipython->kora) (5.1.1)\n",
            "Requirement already satisfied: wcwidth in /usr/local/lib/python3.7/dist-packages (from prompt-toolkit<2.0.0,>=1.0.4->ipython->kora) (0.2.5)\n",
            "Requirement already satisfied: six>=1.9.0 in /usr/local/lib/python3.7/dist-packages (from prompt-toolkit<2.0.0,>=1.0.4->ipython->kora) (1.15.0)\n",
            "Requirement already satisfied: pyparsing!=3.0.5,>=2.0.2 in /usr/local/lib/python3.7/dist-packages (from packaging->fastcore->kora) (3.0.7)\n",
            "Requirement already satisfied: ptyprocess>=0.5 in /usr/local/lib/python3.7/dist-packages (from pexpect->ipython->kora) (0.7.0)\n",
            "Installing collected packages: fastcore, kora\n",
            "Successfully installed fastcore-1.4.0 kora-0.9.19\n"
          ]
        }
      ]
    },
    {
      "cell_type": "code",
      "source": [
        "# Importa las librerias de Google Drive con el SDK para poder guardar información\n",
        "\n",
        "from googleapiclient.discovery import build\n",
        "drive_service = build('drive', 'v3')"
      ],
      "metadata": {
        "id": "7uGeG2WV0P15"
      },
      "execution_count": 14,
      "outputs": []
    },
    {
      "cell_type": "code",
      "source": [
        "# libreria de GOogle drive para actualizar archivos\n",
        "\n",
        "from googleapiclient.http import MediaFileUpload"
      ],
      "metadata": {
        "id": "ZYyUYiHR0Qng"
      },
      "execution_count": 15,
      "outputs": []
    },
    {
      "cell_type": "code",
      "source": [
        "# Este servira como complemento para cambiar el nombre del archivo\n",
        "\n",
        "titulo_documento = input()"
      ],
      "metadata": {
        "colab": {
          "base_uri": "https://localhost:8080/"
        },
        "id": "r4x0RRPAUi01",
        "outputId": "1967ba95-4057-40de-ccd0-dcb29503155f"
      },
      "execution_count": 16,
      "outputs": [
        {
          "name": "stdout",
          "output_type": "stream",
          "text": [
            "Copia documento identidad\n"
          ]
        }
      ]
    },
    {
      "cell_type": "code",
      "source": [
        "# Función que copia el documento a la carpeta del participante u organización creado\n",
        "\n",
        "for i in range(contar):\n",
        "  try:\n",
        "    folder_id = get_id(directory+'/'+df[id][i])\n",
        "    file_id = df[columna][i].split('=')[-1]\n",
        "    file_metadata = {\n",
        "      'name': str(df[id][i]+' - '+titulo_documento),\n",
        "      'parents': str(folder_id),\n",
        "    }\n",
        "    file = drive_service.files().get(fileId=file_id,\n",
        "                                  fields='parents').execute()\n",
        "    previous_parents = \",\".join(file.get('parents'))\n",
        "    # Realiza copia del archivo\n",
        "    file = drive_service.files().copy(fileId=file_id).execute()\n",
        "    # Mueve el archivo copiado a la nueva carpeta\n",
        "    file = drive_service.files().update(body=file_metadata,fileId=file_id, addParents=folder_id, removeParents=previous_parents, fields='id, parents').execute()\n",
        "  except:\n",
        "    None\n"
      ],
      "metadata": {
        "id": "7HBAoSud1ndU"
      },
      "execution_count": 17,
      "outputs": []
    }
  ]
}